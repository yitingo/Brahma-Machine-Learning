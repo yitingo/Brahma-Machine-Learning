{
 "cells": [
  {
   "cell_type": "markdown",
   "metadata": {},
   "source": [
    "# Your name: <Enter your name>\n",
    "## Assignment Name: CA01 - Data Cleaning and Exploration of India Air Quality"
   ]
  },
  {
   "cell_type": "markdown",
   "metadata": {},
   "source": [
    "# Program Inititialization Section\n",
    "## Enter your import packages here"
   ]
  },
  {
   "cell_type": "code",
   "execution_count": 5,
   "metadata": {
    "collapsed": true
   },
   "outputs": [],
   "source": [
    "# import packages \n",
    "\n"
   ]
  },
  {
   "cell_type": "markdown",
   "metadata": {},
   "source": [
    "# Data File Reading Section\n",
    "## Write code to read in data from external sources here"
   ]
  },
  {
   "cell_type": "code",
   "execution_count": 7,
   "metadata": {},
   "outputs": [],
   "source": [
    "#read datasets\n"
   ]
  },
  {
   "cell_type": "markdown",
   "metadata": {},
   "source": [
    "# Initial Data Investigation Section\n",
    "\n",
    "## Summarized details\n",
    "### Generate descriptive statistics that summarize the central tendency, dispersion, and shape of a dataset’s distribution, excluding NaN values.\n",
    "#### Steps:\n",
    "#### 1. Statistical Description of data (data.describe)\n",
    "#### 2. Display number of total rows and columns of the dataset (data.shape)\n",
    "#### 3. Display number of non-null values for each column (data.count)\n",
    "#### 4. Display number of null values for each column (sum of data.isnull)\n",
    "#### 5. Display range, column, number of non-null objects of each column, datatype and memory usage (data.info)\n",
    "#### 6. Display Top 10 and Bottom 10 records (head and tail)"
   ]
  },
  {
   "cell_type": "code",
   "execution_count": 2,
   "metadata": {
    "scrolled": false
   },
   "outputs": [],
   "source": [
    "# Your code for this section here ..."
   ]
  },
  {
   "cell_type": "markdown",
   "metadata": {},
   "source": [
    "## Cleansing the dataset\n",
    "### Dropping of less valued columns:\n",
    "1. stn_code, agency, sampling_date, location_monitoring_agency do not add much value to the dataset in terms of information. Therefore, we can drop those columns.\n",
    "\n",
    "2. Dropping rows where no date is available."
   ]
  },
  {
   "cell_type": "code",
   "execution_count": 14,
   "metadata": {},
   "outputs": [],
   "source": [
    "# Cleaning up the data\n",
    "\n",
    "#dropping columns that aren't required\n",
    "\n",
    "# ... your code here\n",
    "\n",
    "# dropping rows where no date is available\n",
    "\n",
    "# ... your code here"
   ]
  },
  {
   "cell_type": "code",
   "execution_count": 5,
   "metadata": {},
   "outputs": [],
   "source": [
    "# displaying final columns (data.columns)\n",
    "\n",
    "# ... your code here"
   ]
  },
  {
   "cell_type": "markdown",
   "metadata": {},
   "source": [
    "### Changing the types to uniform format:\n",
    "\n",
    "Notice that the ‘type’ column has values such as ‘Industrial Area’ and ‘Industrial Areas’ — both actually mean the same, so let’s remove such type of stuff and make it uniform. Replace the 'type' values with standard codes as follows:\n",
    "\n",
    "types = {\n",
    "    \"Residential\": \"R\",\n",
    "    \"Residential and others\": \"RO\",\n",
    "    \"Residential, Rural and other Areas\": \"RRO\",\n",
    "    \"Industrial Area\": \"I\",\n",
    "    \"Industrial Areas\": \"I\",\n",
    "    \"Industrial\": \"I\",\n",
    "    \"Sensitive Area\": \"S\",\n",
    "    \"Sensitive Areas\": \"S\",\n",
    "    \"Sensitive\": \"S\",\n",
    "    np.nan: \"RRO\"\n",
    "}\n",
    "\n",
    "data.type = data.type.replace(types)"
   ]
  },
  {
   "cell_type": "code",
   "execution_count": 17,
   "metadata": {},
   "outputs": [],
   "source": [
    "# ... Your code here\n"
   ]
  },
  {
   "cell_type": "code",
   "execution_count": 6,
   "metadata": {},
   "outputs": [],
   "source": [
    "# Display top 10 records after codification of 'types'\n",
    "# ... Your code here"
   ]
  },
  {
   "cell_type": "markdown",
   "metadata": {},
   "source": [
    "### Creating a year column\n",
    "To view the trend over a period of time, we need year values for each row and also when you see in most of the values in date column only has ‘year’ value. So, let’s create a new column holding year values. Convert the column to 'datetime' type and extract the year to populate the new column. Display Top 5 records after the conversion."
   ]
  },
  {
   "cell_type": "code",
   "execution_count": 7,
   "metadata": {},
   "outputs": [],
   "source": [
    "# ... Your code here"
   ]
  },
  {
   "cell_type": "markdown",
   "metadata": {},
   "source": [
    "### Handling Missing Values\n",
    "\n",
    "The column such as SO2, NO2, rspm, spm, pm2_5 are the ones which contribute much to our analysis. So, we need to remove null from those columns to avoid inaccuracy in the prediction.\n",
    "We use the Imputer from sklearn.preprocessing to fill the missing values in every column with the mean."
   ]
  },
  {
   "cell_type": "code",
   "execution_count": 23,
   "metadata": {
    "collapsed": true
   },
   "outputs": [],
   "source": [
    "# define columns of importance, which shall be used reguarly (COLS = ....)\n",
    "# invoke SimpleImputer to fill missing values using 'mean' as the replacement strategy\n",
    "# Display data.info after the transformation\n",
    "# Display that there are no more missing values in the dataset\n",
    "\n",
    "# ... your code here\n"
   ]
  },
  {
   "cell_type": "markdown",
   "metadata": {},
   "source": [
    "## Statewise Grouping of so2, no2, rspm, spm values\n",
    "\n",
    "Calculate median values of so2, no2, rspm, spm for each state and display in (a) as table (b) bar chart, with values sorted in ascending order. Separate section for each of the component. Use matplotlib()."
   ]
  },
  {
   "cell_type": "markdown",
   "metadata": {},
   "source": [
    "### so2 status"
   ]
  },
  {
   "cell_type": "code",
   "execution_count": 8,
   "metadata": {},
   "outputs": [],
   "source": [
    "# ... Your code here"
   ]
  },
  {
   "cell_type": "markdown",
   "metadata": {},
   "source": [
    "### no2 status"
   ]
  },
  {
   "cell_type": "code",
   "execution_count": 9,
   "metadata": {},
   "outputs": [],
   "source": [
    "# ... Your code here"
   ]
  },
  {
   "cell_type": "markdown",
   "metadata": {},
   "source": [
    "### rspm status"
   ]
  },
  {
   "cell_type": "code",
   "execution_count": 10,
   "metadata": {},
   "outputs": [],
   "source": [
    "# ... Your code here"
   ]
  },
  {
   "cell_type": "markdown",
   "metadata": {},
   "source": [
    "### spm status"
   ]
  },
  {
   "cell_type": "code",
   "execution_count": 11,
   "metadata": {},
   "outputs": [],
   "source": [
    "# ... Your code here"
   ]
  },
  {
   "cell_type": "markdown",
   "metadata": {},
   "source": [
    "### What is the yearly trend in a particular state, say ‘Andhra Pradesh’?\n",
    "\n",
    "Create a new dataframe containing the NO2, SO2, rspm, and spm data regarding state ‘Andhra Pradesh’ only and group it by ‘year’. Display top 5 records after."
   ]
  },
  {
   "cell_type": "code",
   "execution_count": 12,
   "metadata": {},
   "outputs": [],
   "source": [
    "# ... Your code here"
   ]
  },
  {
   "cell_type": "code",
   "execution_count": 13,
   "metadata": {},
   "outputs": [],
   "source": [
    "# Display yearly trend graph (year vs. value) in pairs: (a) so2 and no2 (b) rspm and spm. \n",
    "# So, you will display TWO graphs altogether.\n",
    "\n",
    "# ... Your code here"
   ]
  },
  {
   "cell_type": "markdown",
   "metadata": {},
   "source": [
    "Do you find anythumg alarming? Explain what you can conclude from this Exploratory Data Analysis for the State of Andhra Pradesh. Enter your answer here .....\n",
    "\n"
   ]
  }
 ],
 "metadata": {
  "kernelspec": {
   "display_name": "Python 3",
   "language": "python",
   "name": "python3"
  },
  "language_info": {
   "codemirror_mode": {
    "name": "ipython",
    "version": 3
   },
   "file_extension": ".py",
   "mimetype": "text/x-python",
   "name": "python",
   "nbconvert_exporter": "python",
   "pygments_lexer": "ipython3",
   "version": "3.8.3"
  }
 },
 "nbformat": 4,
 "nbformat_minor": 2
}
